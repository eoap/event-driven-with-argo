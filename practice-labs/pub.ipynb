{
 "cells": [
  {
   "cell_type": "markdown",
   "metadata": {},
   "source": [
    "# Redis' publisher Implementation\n",
    "\n",
    "In event-driven architectures, efficient message broadcasting is essential for real-time communication between different components of a system. Redis' `publisher` implementation enables seamless event propagation using its Pub/Sub and Streams features. This approach is particularly useful in scenarios where multiple consumers need to act upon published messages in a distributed environment. The advantages of using publisher are Low Latency Communication, Scalability, Decoupled Architecture, Event-Driven Processing, and Efficient Data Streaming, making it ideal for event logging. For more information about Redis's sub/pub please check this [reference](https://redis.io/docs/latest/develop/interact/pubsub/).\n",
    "\n",
    "**Objectives:**\n",
    "\n",
    "In this notebook, the user will:\n",
    "- Set up a Redis connection to ensure reliable communication.\n",
    "- Define a function to publish events using Redis Streams.\n",
    "- Simulate event publishing with sample data.\n",
    "- Integrate with a real-time event source, such as STAC API, to dynamically generate messages.\n",
    "- Test message delivery to verify that the publisher correctly sends data to Redis streams.\n",
    "\n",
    "### Table of content:\n",
    "- [Import dependencies](#import-dependencies)\n",
    "- [Pub's connection and publish](#pubs-connection-and-publish)\n",
    "- [STAC API Query for Event Discovery](#stac-api-query-for-event-discovery)"
   ]
  },
  {
   "cell_type": "markdown",
   "metadata": {},
   "source": [
    "## Import dependencies"
   ]
  },
  {
   "cell_type": "code",
   "execution_count": 1,
   "metadata": {},
   "outputs": [],
   "source": [
    "from os import environ\n",
    "from redis import Redis\n",
    "from time import sleep\n",
    "import pystac_client\n",
    "from datetime import datetime, timedelta\n",
    "from time import sleep\n",
    "from loguru import logger"
   ]
  },
  {
   "cell_type": "markdown",
   "metadata": {},
   "source": [
    "## Pub's connection and publish"
   ]
  },
  {
   "cell_type": "markdown",
   "metadata": {},
   "source": [
    "The following script the user define some function such as:\n",
    "- `connect_to_redis`: This function set up a redis connection to ensure reliable communication\n",
    "- `send_event`: This function responsible for publishing events using Redis stream"
   ]
  },
  {
   "cell_type": "code",
   "execution_count": 9,
   "metadata": {},
   "outputs": [],
   "source": [
    "stream_key = environ.get(\"STREAM\", \"STREAM\")\n",
    "producer = environ.get(\"PRODUCER\", \"project-a\")\n",
    "\n",
    "\n",
    "def connect_to_redis():\n",
    "    hostname = environ.get(\"REDIS_HOSTNAME\", \"redis-service\") \n",
    "    port = environ.get(\"REDIS_PORT\", 6379)\n",
    "\n",
    "    return Redis(hostname, port, retry_on_timeout=True)\n",
    "\n",
    "\n",
    "def send_event(redis_connection, reference):\n",
    "    count = 0\n",
    "\n",
    "    try:\n",
    "        # TODO cloud events\n",
    "        # un-map the \"data\" wrt app package parameters\n",
    "        data = {\n",
    "            \"subject\": reference,\n",
    "            \"producer\": producer,\n",
    "            \"href\": reference,\n",
    "        }\n",
    "        resp = redis_connection.xadd(stream_key, data)\n",
    "        print(resp)\n",
    "        count += 1\n",
    "\n",
    "    except ConnectionError as e:\n",
    "        logger.error(f\"ERROR REDIS CONNECTION: {e}\")\n",
    "\n"
   ]
  },
  {
   "cell_type": "markdown",
   "metadata": {},
   "source": [
    "In the cell below, the user create a connection object to Redis."
   ]
  },
  {
   "cell_type": "code",
   "execution_count": 8,
   "metadata": {},
   "outputs": [
    {
     "data": {
      "text/plain": [
       "<redis.client.Redis(<redis.connection.ConnectionPool(<redis.connection.Connection(host=redis-service,port=6379,db=0)>)>)>"
      ]
     },
     "execution_count": 8,
     "metadata": {},
     "output_type": "execute_result"
    }
   ],
   "source": [
    "\n",
    "connection = connect_to_redis()\n",
    "connection"
   ]
  }
 ],
 "metadata": {
  "kernelspec": {
   "display_name": "3.10.12",
   "language": "python",
   "name": "python3"
  },
  "language_info": {
   "codemirror_mode": {
    "name": "ipython",
    "version": 3
   },
   "file_extension": ".py",
   "mimetype": "text/x-python",
   "name": "python",
   "nbconvert_exporter": "python",
   "pygments_lexer": "ipython3",
   "version": "3.10.12"
  }
 },
 "nbformat": 4,
 "nbformat_minor": 2
}
