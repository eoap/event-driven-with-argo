{
 "cells": [
  {
   "cell_type": "markdown",
   "metadata": {},
   "source": [
    "# Redis' publisher Implementation\n",
    "\n",
    "In event-driven architectures, efficient message broadcasting is essential for real-time communication between different components of a system. Redis' `publisher` implementation enables seamless event propagation using its Pub/Sub and Streams features. This approach is particularly useful in scenarios where multiple consumers need to act upon published messages in a distributed environment. The advantages of using publisher are Low Latency Communication, Scalability, Decoupled Architecture, Event-Driven Processing, and Efficient Data Streaming, making it ideal for event logging. For more information about Redis's sub/pub please check this [reference](https://redis.io/docs/latest/develop/interact/pubsub/).\n",
    "\n",
    "**Objectives:**\n",
    "\n",
    "In this notebook, the user will:\n",
    "- Set up a Redis connection to ensure reliable communication.\n",
    "- Define a function to publish events using Redis Streams.\n",
    "- Simulate event publishing with sample data.\n",
    "- Integrate with a real-time event source, such as STAC API, to dynamically generate messages.\n",
    "- Test message delivery to verify that the publisher correctly sends data to Redis streams.\n",
    "\n",
    "### Table of content:\n",
    "- [Import dependencies](#import-dependencies)\n",
    "- [Pub's connection and publish](#pubs-connection-and-publish)\n",
    "- [STAC API Query for Event Discovery](#stac-api-query-for-event-discovery)"
   ]
  },
  {
   "cell_type": "markdown",
   "metadata": {},
   "source": [
    "## Import dependencies"
   ]
  },
  {
   "cell_type": "code",
   "execution_count": 1,
   "metadata": {},
   "outputs": [],
   "source": [
    "from os import environ\n",
    "from redis import Redis\n",
    "from time import sleep\n",
    "import pystac_client\n",
    "from datetime import datetime, timedelta\n",
    "from time import sleep\n",
    "from loguru import logger"
   ]
  },
  {
   "cell_type": "markdown",
   "metadata": {},
   "source": [
    "## Pub's connection and publish"
   ]
  },
  {
   "cell_type": "markdown",
   "metadata": {},
   "source": [
    "The following script the user define some function such as:\n",
    "- `connect_to_redis`: This function set up a redis connection to ensure reliable communication\n",
    "- `send_event`: This function responsible for publishing events using Redis stream"
   ]
  },
  {
   "cell_type": "code",
   "execution_count": 2,
   "metadata": {},
   "outputs": [],
   "source": [
    "stream_key = environ.get(\"STREAM\", \"STREAM\")\n",
    "producer = environ.get(\"PRODUCER\", \"project-a\")\n",
    "\n",
    "\n",
    "def connect_to_redis():\n",
    "    hostname = environ.get(\"REDIS_HOSTNAME\", \"redis-service\") \n",
    "    port = environ.get(\"REDIS_PORT\", 6379)\n",
    "\n",
    "    return Redis(hostname, port, retry_on_timeout=True)\n",
    "\n",
    "\n",
    "def send_event(redis_connection, reference):\n",
    "    count = 0\n",
    "\n",
    "    try:\n",
    "        # TODO cloud events\n",
    "        # un-map the \"data\" wrt app package parameters\n",
    "        data = {\n",
    "            \"subject\": reference,\n",
    "            \"producer\": producer,\n",
    "            \"href\": reference,\n",
    "        }\n",
    "        resp = redis_connection.xadd(stream_key, data)\n",
    "        print(resp)\n",
    "        count += 1\n",
    "\n",
    "    except ConnectionError as e:\n",
    "        logger.error(f\"ERROR REDIS CONNECTION: {e}\")\n",
    "\n"
   ]
  },
  {
   "cell_type": "markdown",
   "metadata": {},
   "source": [
    "In the cell below, the user create a connection object to Redis."
   ]
  },
  {
   "cell_type": "code",
   "execution_count": 3,
   "metadata": {},
   "outputs": [],
   "source": [
    "\n",
    "connection = connect_to_redis()\n"
   ]
  },
  {
   "cell_type": "markdown",
   "metadata": {},
   "source": [
    "The code below iterates over a desired list of Sentinel-2 satellite imagery references which are hosted on **Earth Search AWS Element84**. It then sends each reference as an event to a Redis stream using the `send_event` function. Additionally, the sleep(1) function will take effect, introducing a 1-second delay between each event to prevent overwhelming the Redis server. This setup enables **event-driven satellite imagery processing**, facilitating real-time geospatial analysis."
   ]
  },
  {
   "cell_type": "code",
   "execution_count": null,
   "metadata": {},
   "outputs": [],
   "source": [
    "references = [\n",
    "    \"https://earth-search.aws.element84.com/v1/collections/sentinel-2-l2a/items/S2B_10TFK_20211230_0_L2A\",\n",
    "    \"https://earth-search.aws.element84.com/v0/collections/sentinel-s2-l2a-cogs/items/S2D_10TFK_20210708_0_L2A\",\n",
    "    \"https://earth-search.aws.element84.com/v0/collections/sentinel-s2-l2a-cogs/items/S2A_10TFK_20210708_0_L2A\",\n",
    "    \"https://earth-search.aws.element84.com/v0/collections/sentinel-s2-l2a-cogs/items/S2B_10TFK_20210713_0_L2A\",\n",
    "    \"https://earth-search.aws.element84.com/v0/collections/sentinel-s2-l2a-cogs/items/S2A_10TFK_20210718_0_L2A\",\n",
    "    \"https://earth-search.aws.element84.com/v0/collections/sentinel-s2-l2a-cogs/items/S2A_10TFK_20220524_0_L2A\",\n",
    "    \"https://earth-search.aws.element84.com/v0/collections/sentinel-s2-l2a-cogs/items/S2D_10TFK_20220524_0_L2A\",\n",
    "    \"https://earth-search.aws.element84.com/v0/collections/sentinel-s2-l2a-cogs/items/S2A_10TFK_20220514_0_L2A\",\n",
    "    \"https://earth-search.aws.element84.com/v0/collections/sentinel-s2-l2a-cogs/items/S2A_10TFK_20220504_0_L2A\"\n",
    "]\n",
    "\n",
    "for reference in references:\n",
    "    send_event(connection, reference)\n",
    "    #break\n",
    "    sleep(1)\n"
   ]
  },
  {
   "cell_type": "markdown",
   "metadata": {},
   "source": [
    "## STAC API Query for Event Discovery\n",
    "\n",
    "The script below queries the Earth Search AWS STAC API to retrieve Sentinel-2 satellite imagery for a specified geographic region and time range. It dynamically generates **10 event dates** at **5-day intervals**, further dividing each date into **four 6-hour time windows** to refine temporal resolution. Using these time constraints, it performs batch queries to fetch available imagery, extracts relevant metadata, and publishes the results as events to Redis for downstream processing. The implementation ensures efficient API usage prevents request overload with controlled pauses (`sleep()`), and enables event-driven geospatial data processing for applications such as environmental monitoring, disaster response, and etc."
   ]
  },
  {
   "cell_type": "code",
   "execution_count": null,
   "metadata": {},
   "outputs": [],
   "source": [
    "# Define the STAC API URL\n",
    "stac_api_url = \"https://earth-search.aws.element84.com/v1\"\n",
    "\n",
    "# Create a client instance\n",
    "client = pystac_client.Client.open(stac_api_url)\n",
    "\n",
    "# Array of event dates (ISO 8601 format)\n",
    "start_date = datetime.fromisoformat(\"2021-07-04T00:00:00Z\".replace(\"Z\", \"+00:00\"))\n",
    "\n",
    "# Number of dates and interval in days\n",
    "num_dates = 10\n",
    "interval_days = 5\n",
    "\n",
    "event_dates = [date.strftime(\"%Y-%m-%dT%H:%M:%SZ\") for date in [start_date + timedelta(days=i * interval_days) for i in range(num_dates)]]\n",
    "logger.info(f'len event_dates: {len(event_dates)}')\n",
    "# Loop over each event date\n",
    "for idx, event_date_str in enumerate(event_dates):\n",
    "    # Parse the event date\n",
    "    logger.info(f\"Event Date {idx+1}: {event_date_str}\")\n",
    "    event_date = datetime.fromisoformat(event_date_str.replace(\"Z\", \"+00:00\"))\n",
    "    \n",
    "    # Query four times with 6-hour steps\n",
    "    for i in range(4):\n",
    "        # Calculate the start and end times for this step\n",
    "        start_time = event_date - timedelta(minutes=(6 * 60 * (i + 1)))\n",
    "        end_time = event_date - timedelta(minutes=(6 * 60 * i) + 1)\n",
    "        \n",
    "        \n",
    "        # Format the time range in ISO 8601 format\n",
    "        time_of_interest = [start_time.strftime('%Y-%m-%dT%H:%M:%SZ') , end_time.strftime('%Y-%m-%dT%H:%M:%SZ')]\n",
    "        \n",
    "        print(time_of_interest)\n",
    "\n",
    "        # Perform the search query\n",
    "        search = client.search(\n",
    "            collections=[\"sentinel-2-l2a\"],\n",
    "            bbox=\"-121.399,39.834,-120.74,40.472\",\n",
    "            datetime=time_of_interest,\n",
    "            max_items=50  # Limit the number of returned items\n",
    "        )\n",
    "        \n",
    "        # Fetch the search results\n",
    "        items = list(search.items())\n",
    "        \n",
    "        # Display some basic information about the found items\n",
    "        print(f\"Results for event date: {event_date_str}, Interval {i+1}\")\n",
    "        print(f\"Time of interest: {time_of_interest}\")\n",
    "        if items:\n",
    "            for item in items:\n",
    "                print(f\"ID: {item.id}\")\n",
    "                print(f\"Date: {item.datetime}\")\n",
    "                print(f\"Assets: {list(item.assets.keys())}\")\n",
    "                print(f\"Bounding box: {item.bbox}\")\n",
    "                print()\n",
    "                send_event(connection, [link.href for link in item.links if link.rel in [\"self\"]][0])\n",
    "        else:\n",
    "            logger.warning(\"No results found.\")\n",
    "        print(\"-\" * 40)\n",
    "        sleep(5)\n",
    "    print(\"-\" * 120)\n",
    "\n",
    "    sleep(90)\n",
    "    "
   ]
  }
 ],
 "metadata": {
  "kernelspec": {
   "display_name": "base",
   "language": "python",
   "name": "python3"
  },
  "language_info": {
   "codemirror_mode": {
    "name": "ipython",
    "version": 3
   },
   "file_extension": ".py",
   "mimetype": "text/x-python",
   "name": "python",
   "nbconvert_exporter": "python",
   "pygments_lexer": "ipython3",
   "version": "3.9.19"
  }
 },
 "nbformat": 4,
 "nbformat_minor": 2
}
