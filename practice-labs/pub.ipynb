{
 "cells": [
  {
   "cell_type": "markdown",
   "metadata": {},
   "source": [
    "# Redis' publisher Implementation\n",
    "\n",
    "In event-driven architectures, efficient message broadcasting is essential for real-time communication between different components of a system. Redis' `publisher` implementation enables seamless event propagation using its Pub/Sub and Streams features. This approach is particularly useful in scenarios where multiple consumers need to act upon published messages in a distributed environment. The advantages of using publisher are Low Latency Communication, Scalability, Decoupled Architecture, Event-Driven Processing, and Efficient Data Streaming, making it ideal for event logging. For more information about Redis's sub/pub please check this [reference](https://redis.io/docs/latest/develop/interact/pubsub/).\n",
    "\n",
    "**Objectives:**\n",
    "\n",
    "In this notebook, the user will:\n",
    "- Set up a Redis connection to ensure reliable communication.\n",
    "- Define a function to publish events using Redis Streams.\n",
    "- Simulate event publishing with sample data.\n",
    "- Integrate with a real-time event source, such as STAC API, to dynamically generate messages.\n",
    "- Test message delivery to verify that the publisher correctly sends data to Redis streams.\n",
    "\n",
    "### Table of content:\n",
    "- [Import dependencies](#import-dependencies)\n",
    "- [Pub's connection and publish](#pubs-connection-and-publish)\n",
    "- [STAC API Query for Event Discovery](#stac-api-query-for-event-discovery)"
   ]
  },
  {
   "cell_type": "markdown",
   "metadata": {},
   "source": [
    "## Import dependencies"
   ]
  },
  {
   "cell_type": "code",
   "execution_count": 1,
   "metadata": {},
   "outputs": [],
   "source": [
    "from os import environ\n",
    "from redis import Redis\n",
    "from time import sleep\n",
    "import pystac_client\n",
    "from datetime import datetime, timedelta\n",
    "from time import sleep\n",
    "from loguru import logger"
   ]
  },
  {
   "cell_type": "markdown",
   "metadata": {},
   "source": [
    "## Pub's connection and publish"
   ]
  },
  {
   "cell_type": "markdown",
   "metadata": {},
   "source": [
    "The following script the user define some function such as:\n",
    "- `connect_to_redis`: This function set up a redis connection to ensure reliable communication\n",
    "- `send_event`: This function responsible for publishing events using Redis stream"
   ]
  },
  {
   "cell_type": "code",
   "execution_count": 2,
   "metadata": {},
   "outputs": [],
   "source": [
    "stream_key = environ.get(\"STREAM\", \"STREAM\")\n",
    "producer = environ.get(\"PRODUCER\", \"project-a\")\n",
    "\n",
    "\n",
    "def connect_to_redis():\n",
    "    hostname = environ.get(\"REDIS_HOSTNAME\", \"redis-service\") \n",
    "    port = environ.get(\"REDIS_PORT\", 6379)\n",
    "\n",
    "    return Redis(hostname, port, retry_on_timeout=True)\n",
    "\n",
    "\n",
    "def send_event(redis_connection, reference):\n",
    "    count = 0\n",
    "\n",
    "    try:\n",
    "        # TODO cloud events\n",
    "        # un-map the \"data\" wrt app package parameters\n",
    "        data = {\n",
    "            \"subject\": reference,\n",
    "            \"producer\": producer,\n",
    "            \"href\": reference,\n",
    "        }\n",
    "        resp = redis_connection.xadd(stream_key, data)\n",
    "        print(resp)\n",
    "        count += 1\n",
    "\n",
    "    except ConnectionError as e:\n",
    "        logger.error(f\"ERROR REDIS CONNECTION: {e}\")\n",
    "\n"
   ]
  },
  {
   "cell_type": "markdown",
   "metadata": {},
   "source": [
    "In the cell below, the user create a connection object to Redis."
   ]
  },
  {
   "cell_type": "code",
   "execution_count": 3,
   "metadata": {},
   "outputs": [],
   "source": [
    "\n",
    "connection = connect_to_redis()\n"
   ]
  },
  {
   "cell_type": "markdown",
   "metadata": {},
   "source": [
    "The code below iterates over a desired list of Sentinel-2 satellite imagery references which are hosted on **Earth Search AWS Element84**. It then sends each reference as an event to a Redis stream using the `send_event` function. Additionally, the sleep(1) function will take effect, introducing a 1-second delay between each event to prevent overwhelming the Redis server. This setup enables **event-driven satellite imagery processing**, facilitating real-time geospatial analysis."
   ]
  },
  {
   "cell_type": "code",
   "execution_count": 4,
   "metadata": {},
   "outputs": [
    {
     "name": "stdout",
     "output_type": "stream",
     "text": [
      "b'1739970782724-0'\n",
      "b'1739970783725-0'\n",
      "b'1739970784726-0'\n",
      "b'1739970785728-0'\n",
      "b'1739970786729-0'\n",
      "b'1739970787730-0'\n",
      "b'1739970788731-0'\n",
      "b'1739970789732-0'\n",
      "b'1739970790733-0'\n"
     ]
    }
   ],
   "source": [
    "references = [\n",
    "    \"https://earth-search.aws.element84.com/v1/collections/sentinel-2-l2a/items/S2B_10TFK_20211230_0_L2A\",\n",
    "    \"https://earth-search.aws.element84.com/v0/collections/sentinel-s2-l2a-cogs/items/S2D_10TFK_20210708_0_L2A\",\n",
    "    \"https://earth-search.aws.element84.com/v0/collections/sentinel-s2-l2a-cogs/items/S2A_10TFK_20210708_0_L2A\",\n",
    "    \"https://earth-search.aws.element84.com/v0/collections/sentinel-s2-l2a-cogs/items/S2B_10TFK_20210713_0_L2A\",\n",
    "    \"https://earth-search.aws.element84.com/v0/collections/sentinel-s2-l2a-cogs/items/S2A_10TFK_20210718_0_L2A\",\n",
    "    \"https://earth-search.aws.element84.com/v0/collections/sentinel-s2-l2a-cogs/items/S2A_10TFK_20220524_0_L2A\",\n",
    "    \"https://earth-search.aws.element84.com/v0/collections/sentinel-s2-l2a-cogs/items/S2D_10TFK_20220524_0_L2A\",\n",
    "    \"https://earth-search.aws.element84.com/v0/collections/sentinel-s2-l2a-cogs/items/S2A_10TFK_20220514_0_L2A\",\n",
    "    \"https://earth-search.aws.element84.com/v0/collections/sentinel-s2-l2a-cogs/items/S2A_10TFK_20220504_0_L2A\"\n",
    "]\n",
    "\n",
    "for reference in references:\n",
    "    send_event(connection, reference)\n",
    "    #break\n",
    "    sleep(1)\n"
   ]
  },
  {
   "cell_type": "markdown",
   "metadata": {},
   "source": [
    "## STAC API Query for Event Discovery\n",
    "\n",
    "The script below queries the Earth Search AWS STAC API to retrieve Sentinel-2 satellite imagery for a specified geographic region and time range. It dynamically generates **10 event dates** at **5-day intervals**, further dividing each date into **four 6-hour time windows** to refine temporal resolution. Using these time constraints, it performs batch queries to fetch available imagery, extracts relevant metadata, and publishes the results as events to Redis for downstream processing. The implementation ensures efficient API usage prevents request overload with controlled pauses (`sleep()`), and enables event-driven geospatial data processing for applications such as environmental monitoring, disaster response, and etc."
   ]
  },
  {
   "cell_type": "code",
   "execution_count": 6,
   "metadata": {},
   "outputs": [
    {
     "name": "stderr",
     "output_type": "stream",
     "text": [
      "\u001b[32m2025-02-19 13:14:37.151\u001b[0m | \u001b[1mINFO    \u001b[0m | \u001b[36m__main__\u001b[0m:\u001b[36m<module>\u001b[0m:\u001b[36m15\u001b[0m - \u001b[1mlen event_dates: 10\u001b[0m\n",
      "\u001b[32m2025-02-19 13:14:37.153\u001b[0m | \u001b[1mINFO    \u001b[0m | \u001b[36m__main__\u001b[0m:\u001b[36m<module>\u001b[0m:\u001b[36m19\u001b[0m - \u001b[1mEvent Date 1: 2021-07-04T00:00:00Z\u001b[0m\n"
     ]
    },
    {
     "name": "stdout",
     "output_type": "stream",
     "text": [
      "['2021-07-03T18:00:00Z', '2021-07-03T23:59:00Z']\n"
     ]
    },
    {
     "name": "stderr",
     "output_type": "stream",
     "text": [
      "\u001b[32m2025-02-19 13:14:37.677\u001b[0m | \u001b[33m\u001b[1mWARNING \u001b[0m | \u001b[36m__main__\u001b[0m:\u001b[36m<module>\u001b[0m:\u001b[36m57\u001b[0m - \u001b[33m\u001b[1mNo results found.\u001b[0m\n"
     ]
    },
    {
     "name": "stdout",
     "output_type": "stream",
     "text": [
      "Results for event date: 2021-07-04T00:00:00Z, Interval 1\n",
      "Time of interest: ['2021-07-03T18:00:00Z', '2021-07-03T23:59:00Z']\n",
      "----------------------------------------\n",
      "['2021-07-03T12:00:00Z', '2021-07-03T17:59:00Z']\n"
     ]
    },
    {
     "name": "stderr",
     "output_type": "stream",
     "text": [
      "\u001b[32m2025-02-19 13:14:43.212\u001b[0m | \u001b[33m\u001b[1mWARNING \u001b[0m | \u001b[36m__main__\u001b[0m:\u001b[36m<module>\u001b[0m:\u001b[36m57\u001b[0m - \u001b[33m\u001b[1mNo results found.\u001b[0m\n"
     ]
    },
    {
     "name": "stdout",
     "output_type": "stream",
     "text": [
      "Results for event date: 2021-07-04T00:00:00Z, Interval 2\n",
      "Time of interest: ['2021-07-03T12:00:00Z', '2021-07-03T17:59:00Z']\n",
      "----------------------------------------\n",
      "['2021-07-03T06:00:00Z', '2021-07-03T11:59:00Z']\n"
     ]
    },
    {
     "name": "stderr",
     "output_type": "stream",
     "text": [
      "\u001b[32m2025-02-19 13:14:48.744\u001b[0m | \u001b[33m\u001b[1mWARNING \u001b[0m | \u001b[36m__main__\u001b[0m:\u001b[36m<module>\u001b[0m:\u001b[36m57\u001b[0m - \u001b[33m\u001b[1mNo results found.\u001b[0m\n"
     ]
    },
    {
     "name": "stdout",
     "output_type": "stream",
     "text": [
      "Results for event date: 2021-07-04T00:00:00Z, Interval 3\n",
      "Time of interest: ['2021-07-03T06:00:00Z', '2021-07-03T11:59:00Z']\n",
      "----------------------------------------\n",
      "['2021-07-03T00:00:00Z', '2021-07-03T05:59:00Z']\n"
     ]
    },
    {
     "name": "stderr",
     "output_type": "stream",
     "text": [
      "\u001b[32m2025-02-19 13:14:54.280\u001b[0m | \u001b[33m\u001b[1mWARNING \u001b[0m | \u001b[36m__main__\u001b[0m:\u001b[36m<module>\u001b[0m:\u001b[36m57\u001b[0m - \u001b[33m\u001b[1mNo results found.\u001b[0m\n"
     ]
    },
    {
     "name": "stdout",
     "output_type": "stream",
     "text": [
      "Results for event date: 2021-07-04T00:00:00Z, Interval 4\n",
      "Time of interest: ['2021-07-03T00:00:00Z', '2021-07-03T05:59:00Z']\n",
      "----------------------------------------\n",
      "------------------------------------------------------------------------------------------------------------------------\n"
     ]
    },
    {
     "name": "stderr",
     "output_type": "stream",
     "text": [
      "\u001b[32m2025-02-19 13:16:29.373\u001b[0m | \u001b[1mINFO    \u001b[0m | \u001b[36m__main__\u001b[0m:\u001b[36m<module>\u001b[0m:\u001b[36m19\u001b[0m - \u001b[1mEvent Date 2: 2021-07-09T00:00:00Z\u001b[0m\n"
     ]
    },
    {
     "name": "stdout",
     "output_type": "stream",
     "text": [
      "['2021-07-08T18:00:00Z', '2021-07-08T23:59:00Z']\n",
      "Results for event date: 2021-07-09T00:00:00Z, Interval 1\n",
      "Time of interest: ['2021-07-08T18:00:00Z', '2021-07-08T23:59:00Z']\n",
      "ID: S2A_10TFK_20210708_0_L2A\n",
      "Date: 2021-07-08 19:03:25.410000+00:00\n",
      "Assets: ['aot', 'blue', 'coastal', 'granule_metadata', 'green', 'nir', 'nir08', 'nir09', 'red', 'rededge1', 'rededge2', 'rededge3', 'scl', 'swir16', 'swir22', 'thumbnail', 'tileinfo_metadata', 'visual', 'wvp', 'aot-jp2', 'blue-jp2', 'coastal-jp2', 'green-jp2', 'nir-jp2', 'nir08-jp2', 'nir09-jp2', 'red-jp2', 'rededge1-jp2', 'rededge2-jp2', 'rededge3-jp2', 'scl-jp2', 'swir16-jp2', 'swir22-jp2', 'visual-jp2', 'wvp-jp2']\n",
      "Bounding box: [-121.8343226741975, 39.635880717283825, -120.51956282559038, 40.64479052153661]\n",
      "\n",
      "b'1739970990757-0'\n",
      "ID: S2A_10TFK_20210708_1_L2A\n",
      "Date: 2021-07-08 19:03:25.409000+00:00\n",
      "Assets: ['aot', 'blue', 'coastal', 'granule_metadata', 'green', 'nir', 'nir08', 'nir09', 'red', 'rededge1', 'rededge2', 'rededge3', 'scl', 'swir16', 'swir22', 'thumbnail', 'tileinfo_metadata', 'visual', 'wvp', 'aot-jp2', 'blue-jp2', 'coastal-jp2', 'green-jp2', 'nir-jp2', 'nir08-jp2', 'nir09-jp2', 'red-jp2', 'rededge1-jp2', 'rededge2-jp2', 'rededge3-jp2', 'scl-jp2', 'swir16-jp2', 'swir22-jp2', 'visual-jp2', 'wvp-jp2']\n",
      "Bounding box: [-121.8343226741975, 39.635880717283825, -120.51956282559038, 40.64479052153661]\n",
      "\n",
      "b'1739970990758-0'\n",
      "----------------------------------------\n",
      "['2021-07-08T12:00:00Z', '2021-07-08T17:59:00Z']\n"
     ]
    },
    {
     "name": "stderr",
     "output_type": "stream",
     "text": [
      "\u001b[32m2025-02-19 13:16:36.303\u001b[0m | \u001b[33m\u001b[1mWARNING \u001b[0m | \u001b[36m__main__\u001b[0m:\u001b[36m<module>\u001b[0m:\u001b[36m57\u001b[0m - \u001b[33m\u001b[1mNo results found.\u001b[0m\n"
     ]
    },
    {
     "name": "stdout",
     "output_type": "stream",
     "text": [
      "Results for event date: 2021-07-09T00:00:00Z, Interval 2\n",
      "Time of interest: ['2021-07-08T12:00:00Z', '2021-07-08T17:59:00Z']\n",
      "----------------------------------------\n",
      "['2021-07-08T06:00:00Z', '2021-07-08T11:59:00Z']\n"
     ]
    },
    {
     "name": "stderr",
     "output_type": "stream",
     "text": [
      "\u001b[32m2025-02-19 13:16:41.834\u001b[0m | \u001b[33m\u001b[1mWARNING \u001b[0m | \u001b[36m__main__\u001b[0m:\u001b[36m<module>\u001b[0m:\u001b[36m57\u001b[0m - \u001b[33m\u001b[1mNo results found.\u001b[0m\n"
     ]
    },
    {
     "name": "stdout",
     "output_type": "stream",
     "text": [
      "Results for event date: 2021-07-09T00:00:00Z, Interval 3\n",
      "Time of interest: ['2021-07-08T06:00:00Z', '2021-07-08T11:59:00Z']\n",
      "----------------------------------------\n",
      "['2021-07-08T00:00:00Z', '2021-07-08T05:59:00Z']\n"
     ]
    },
    {
     "name": "stderr",
     "output_type": "stream",
     "text": [
      "\u001b[32m2025-02-19 13:16:47.358\u001b[0m | \u001b[33m\u001b[1mWARNING \u001b[0m | \u001b[36m__main__\u001b[0m:\u001b[36m<module>\u001b[0m:\u001b[36m57\u001b[0m - \u001b[33m\u001b[1mNo results found.\u001b[0m\n"
     ]
    },
    {
     "name": "stdout",
     "output_type": "stream",
     "text": [
      "Results for event date: 2021-07-09T00:00:00Z, Interval 4\n",
      "Time of interest: ['2021-07-08T00:00:00Z', '2021-07-08T05:59:00Z']\n",
      "----------------------------------------\n",
      "------------------------------------------------------------------------------------------------------------------------\n"
     ]
    },
    {
     "name": "stderr",
     "output_type": "stream",
     "text": [
      "\u001b[32m2025-02-19 13:18:22.451\u001b[0m | \u001b[1mINFO    \u001b[0m | \u001b[36m__main__\u001b[0m:\u001b[36m<module>\u001b[0m:\u001b[36m19\u001b[0m - \u001b[1mEvent Date 3: 2021-07-14T00:00:00Z\u001b[0m\n"
     ]
    },
    {
     "name": "stdout",
     "output_type": "stream",
     "text": [
      "['2021-07-13T18:00:00Z', '2021-07-13T23:59:00Z']\n",
      "Results for event date: 2021-07-14T00:00:00Z, Interval 1\n",
      "Time of interest: ['2021-07-13T18:00:00Z', '2021-07-13T23:59:00Z']\n",
      "ID: S2B_10TFK_20210713_1_L2A\n",
      "Date: 2021-07-13 19:03:24.627000+00:00\n",
      "Assets: ['aot', 'blue', 'coastal', 'granule_metadata', 'green', 'nir', 'nir08', 'nir09', 'red', 'rededge1', 'rededge2', 'rededge3', 'scl', 'swir16', 'swir22', 'thumbnail', 'tileinfo_metadata', 'visual', 'wvp', 'aot-jp2', 'blue-jp2', 'coastal-jp2', 'green-jp2', 'nir-jp2', 'nir08-jp2', 'nir09-jp2', 'red-jp2', 'rededge1-jp2', 'rededge2-jp2', 'rededge3-jp2', 'scl-jp2', 'swir16-jp2', 'swir22-jp2', 'visual-jp2', 'wvp-jp2']\n",
      "Bounding box: [-121.8343226741975, 39.635880717283825, -120.51956282559038, 40.64479052153661]\n",
      "\n",
      "b'1739971103838-0'\n",
      "ID: S2B_10TFK_20210713_0_L2A\n",
      "Date: 2021-07-13 19:03:24.627000+00:00\n",
      "Assets: ['aot', 'blue', 'coastal', 'granule_metadata', 'green', 'nir', 'nir08', 'nir09', 'red', 'rededge1', 'rededge2', 'rededge3', 'scl', 'swir16', 'swir22', 'thumbnail', 'tileinfo_metadata', 'visual', 'wvp', 'aot-jp2', 'blue-jp2', 'coastal-jp2', 'green-jp2', 'nir-jp2', 'nir08-jp2', 'nir09-jp2', 'red-jp2', 'rededge1-jp2', 'rededge2-jp2', 'rededge3-jp2', 'scl-jp2', 'swir16-jp2', 'swir22-jp2', 'visual-jp2', 'wvp-jp2']\n",
      "Bounding box: [-121.8343226741975, 39.635880717283825, -120.51956282559038, 40.64479052153661]\n",
      "\n",
      "b'1739971103838-1'\n",
      "----------------------------------------\n",
      "['2021-07-13T12:00:00Z', '2021-07-13T17:59:00Z']\n"
     ]
    },
    {
     "name": "stderr",
     "output_type": "stream",
     "text": [
      "\u001b[32m2025-02-19 13:18:29.377\u001b[0m | \u001b[33m\u001b[1mWARNING \u001b[0m | \u001b[36m__main__\u001b[0m:\u001b[36m<module>\u001b[0m:\u001b[36m57\u001b[0m - \u001b[33m\u001b[1mNo results found.\u001b[0m\n"
     ]
    },
    {
     "name": "stdout",
     "output_type": "stream",
     "text": [
      "Results for event date: 2021-07-14T00:00:00Z, Interval 2\n",
      "Time of interest: ['2021-07-13T12:00:00Z', '2021-07-13T17:59:00Z']\n",
      "----------------------------------------\n",
      "['2021-07-13T06:00:00Z', '2021-07-13T11:59:00Z']\n"
     ]
    },
    {
     "name": "stderr",
     "output_type": "stream",
     "text": [
      "\u001b[32m2025-02-19 13:18:34.921\u001b[0m | \u001b[33m\u001b[1mWARNING \u001b[0m | \u001b[36m__main__\u001b[0m:\u001b[36m<module>\u001b[0m:\u001b[36m57\u001b[0m - \u001b[33m\u001b[1mNo results found.\u001b[0m\n"
     ]
    },
    {
     "name": "stdout",
     "output_type": "stream",
     "text": [
      "Results for event date: 2021-07-14T00:00:00Z, Interval 3\n",
      "Time of interest: ['2021-07-13T06:00:00Z', '2021-07-13T11:59:00Z']\n",
      "----------------------------------------\n",
      "['2021-07-13T00:00:00Z', '2021-07-13T05:59:00Z']\n"
     ]
    },
    {
     "name": "stderr",
     "output_type": "stream",
     "text": [
      "\u001b[32m2025-02-19 13:18:40.453\u001b[0m | \u001b[33m\u001b[1mWARNING \u001b[0m | \u001b[36m__main__\u001b[0m:\u001b[36m<module>\u001b[0m:\u001b[36m57\u001b[0m - \u001b[33m\u001b[1mNo results found.\u001b[0m\n"
     ]
    },
    {
     "name": "stdout",
     "output_type": "stream",
     "text": [
      "Results for event date: 2021-07-14T00:00:00Z, Interval 4\n",
      "Time of interest: ['2021-07-13T00:00:00Z', '2021-07-13T05:59:00Z']\n",
      "----------------------------------------\n",
      "------------------------------------------------------------------------------------------------------------------------\n"
     ]
    }
   ],
   "source": [
    "# Define the STAC API URL\n",
    "stac_api_url = \"https://earth-search.aws.element84.com/v1\"\n",
    "\n",
    "# Create a client instance\n",
    "client = pystac_client.Client.open(stac_api_url)\n",
    "\n",
    "# Array of event dates (ISO 8601 format)\n",
    "start_date = datetime.fromisoformat(\"2021-07-04T00:00:00Z\".replace(\"Z\", \"+00:00\"))\n",
    "\n",
    "# Number of dates and interval in days\n",
    "num_dates = 10\n",
    "interval_days = 5\n",
    "\n",
    "event_dates = [date.strftime(\"%Y-%m-%dT%H:%M:%SZ\") for date in [start_date + timedelta(days=i * interval_days) for i in range(num_dates)]]\n",
    "logger.info(f'len event_dates: {len(event_dates)}')\n",
    "# Loop over each event date\n",
    "for idx, event_date_str in enumerate(event_dates):\n",
    "    # Parse the event date\n",
    "    logger.info(f\"Event Date {idx+1}: {event_date_str}\")\n",
    "    event_date = datetime.fromisoformat(event_date_str.replace(\"Z\", \"+00:00\"))\n",
    "    \n",
    "    # Query four times with 6-hour steps\n",
    "    for i in range(4):\n",
    "        # Calculate the start and end times for this step\n",
    "        start_time = event_date - timedelta(minutes=(6 * 60 * (i + 1)))\n",
    "        end_time = event_date - timedelta(minutes=(6 * 60 * i) + 1)\n",
    "        \n",
    "        \n",
    "        # Format the time range in ISO 8601 format\n",
    "        time_of_interest = [start_time.strftime('%Y-%m-%dT%H:%M:%SZ') , end_time.strftime('%Y-%m-%dT%H:%M:%SZ')]\n",
    "        \n",
    "        print(time_of_interest)\n",
    "\n",
    "        # Perform the search query\n",
    "        search = client.search(\n",
    "            collections=[\"sentinel-2-l2a\"],\n",
    "            bbox=\"-121.399,39.834,-120.74,40.472\",\n",
    "            datetime=time_of_interest,\n",
    "            max_items=50  # Limit the number of returned items\n",
    "        )\n",
    "        \n",
    "        # Fetch the search results\n",
    "        items = list(search.items())\n",
    "        \n",
    "        # Display some basic information about the found items\n",
    "        print(f\"Results for event date: {event_date_str}, Interval {i+1}\")\n",
    "        print(f\"Time of interest: {time_of_interest}\")\n",
    "        if items:\n",
    "            for item in items:\n",
    "                print(f\"ID: {item.id}\")\n",
    "                print(f\"Date: {item.datetime}\")\n",
    "                print(f\"Assets: {list(item.assets.keys())}\")\n",
    "                print(f\"Bounding box: {item.bbox}\")\n",
    "                print()\n",
    "                send_event(connection, [link.href for link in item.links if link.rel in [\"self\"]][0])\n",
    "        else:\n",
    "            logger.warning(\"No results found.\")\n",
    "        print(\"-\" * 40)\n",
    "        sleep(5)\n",
    "    print(\"-\" * 120)\n",
    "\n",
    "    sleep(90)\n",
    "    "
   ]
  }
 ],
 "metadata": {
  "kernelspec": {
   "display_name": "base",
   "language": "python",
   "name": "python3"
  },
  "language_info": {
   "codemirror_mode": {
    "name": "ipython",
    "version": 3
   },
   "file_extension": ".py",
   "mimetype": "text/x-python",
   "name": "python",
   "nbconvert_exporter": "python",
   "pygments_lexer": "ipython3",
   "version": "3.9.19"
  }
 },
 "nbformat": 4,
 "nbformat_minor": 2
}
