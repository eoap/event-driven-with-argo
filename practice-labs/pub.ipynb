{
 "cells": [
  {
   "cell_type": "code",
   "execution_count": 9,
   "metadata": {},
   "outputs": [],
   "source": [
    "\n",
    "from os import environ\n",
    "from redis import Redis\n",
    "from time import sleep\n",
    "\n",
    "stream_key = environ.get(\"STREAM\", \"STREAM\")\n",
    "producer = environ.get(\"PRODUCER\", \"project-a\")\n",
    "\n",
    "\n",
    "def connect_to_redis():\n",
    "    hostname = environ.get(\"REDIS_HOSTNAME\", \"redis-service\") \n",
    "    port = environ.get(\"REDIS_PORT\", 6379)\n",
    "\n",
    "    return Redis(hostname, port, retry_on_timeout=True)\n",
    "\n",
    "\n",
    "def send_event(redis_connection, reference):\n",
    "    count = 0\n",
    "\n",
    "    try:\n",
    "        # TODO cloud events\n",
    "        # un-map the \"data\" wrt app package parameters\n",
    "        data = {\n",
    "            \"subject\": reference,\n",
    "            \"producer\": producer,\n",
    "            \"href\": reference,\n",
    "        }\n",
    "        resp = redis_connection.xadd(stream_key, data)\n",
    "        print(resp)\n",
    "        count += 1\n",
    "\n",
    "    except ConnectionError as e:\n",
    "        print(f\"ERROR REDIS CONNECTION: {e}\")\n",
    "\n"
   ]
  },
  {
   "cell_type": "code",
   "execution_count": 8,
   "metadata": {},
   "outputs": [
    {
     "data": {
      "text/plain": [
       "<redis.client.Redis(<redis.connection.ConnectionPool(<redis.connection.Connection(host=redis-service,port=6379,db=0)>)>)>"
      ]
     },
     "execution_count": 8,
     "metadata": {},
     "output_type": "execute_result"
    }
   ],
   "source": [
    "\n",
    "connection = connect_to_redis()\n",
    "connection"
   ]
  }
 ],
 "metadata": {
  "kernelspec": {
   "display_name": "3.10.12",
   "language": "python",
   "name": "python3"
  },
  "language_info": {
   "codemirror_mode": {
    "name": "ipython",
    "version": 3
   },
   "file_extension": ".py",
   "mimetype": "text/x-python",
   "name": "python",
   "nbconvert_exporter": "python",
   "pygments_lexer": "ipython3",
   "version": "3.10.12"
  }
 },
 "nbformat": 4,
 "nbformat_minor": 2
}
