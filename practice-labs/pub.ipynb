{
 "cells": [
  {
   "cell_type": "code",
   "execution_count": 20,
   "metadata": {},
   "outputs": [],
   "source": [
    "\n",
    "from os import environ\n",
    "from redis import Redis\n",
    "from time import sleep\n",
    "\n",
    "stream_key = environ.get(\"STREAM\", \"STREAM\")\n",
    "producer = environ.get(\"PRODUCER\", \"project-a\")\n",
    "\n",
    "\n",
    "def connect_to_redis():\n",
    "    hostname = environ.get(\"REDIS_HOSTNAME\", \"redis-service\") \n",
    "    port = environ.get(\"REDIS_PORT\", 6379)\n",
    "\n",
    "    return Redis(hostname, port, retry_on_timeout=True)\n",
    "\n",
    "\n",
    "def send_event(redis_connection, reference):\n",
    "    count = 0\n",
    "\n",
    "    try:\n",
    "        # TODO cloud events\n",
    "        # un-map the \"data\" wrt app package parameters\n",
    "        data = {\n",
    "            \"subject\": reference,\n",
    "            \"producer\": producer,\n",
    "            \"href\": reference,\n",
    "        }\n",
    "        resp = redis_connection.xadd(stream_key, data)\n",
    "        print(resp)\n",
    "        count += 1\n",
    "\n",
    "    except ConnectionError as e:\n",
    "        print(f\"ERROR REDIS CONNECTION: {e}\")\n",
    "\n"
   ]
  },
  {
   "cell_type": "code",
   "execution_count": 21,
   "metadata": {},
   "outputs": [],
   "source": [
    "\n",
    "connection = connect_to_redis()\n"
   ]
  },
  {
   "cell_type": "code",
   "execution_count": 22,
   "metadata": {},
   "outputs": [
    {
     "name": "stdout",
     "output_type": "stream",
     "text": [
      "b'1729358212025-0'\n",
      "b'1729358213026-0'\n",
      "b'1729358214027-0'\n",
      "b'1729358215028-0'\n",
      "b'1729358216029-0'\n",
      "b'1729358217031-0'\n",
      "b'1729358218032-0'\n",
      "b'1729358219033-0'\n"
     ]
    }
   ],
   "source": [
    "references = [\n",
    "    \"https://earth-search.aws.element84.com/v0/collections/sentinel-s2-l2a-cogs/items/S2D_10TFK_20210708_0_L2A\",\n",
    "    \"https://earth-search.aws.element84.com/v0/collections/sentinel-s2-l2a-cogs/items/S2A_10TFK_20210708_0_L2A\",\n",
    "    \"https://earth-search.aws.element84.com/v0/collections/sentinel-s2-l2a-cogs/items/S2B_10TFK_20210713_0_L2A\",\n",
    "    \"https://earth-search.aws.element84.com/v0/collections/sentinel-s2-l2a-cogs/items/S2A_10TFK_20210718_0_L2A\",\n",
    "    \"https://earth-search.aws.element84.com/v0/collections/sentinel-s2-l2a-cogs/items/S2A_10TFK_20220524_0_L2A\",\n",
    "    \"https://earth-search.aws.element84.com/v0/collections/sentinel-s2-l2a-cogs/items/S2D_10TFK_20220524_0_L2A\",\n",
    "    \"https://earth-search.aws.element84.com/v0/collections/sentinel-s2-l2a-cogs/items/S2A_10TFK_20220514_0_L2A\",\n",
    "    \"https://earth-search.aws.element84.com/v0/collections/sentinel-s2-l2a-cogs/items/S2A_10TFK_20220504_0_L2A\"\n",
    "]\n",
    "\n",
    "for reference in references:\n",
    "    send_event(connection, reference)\n",
    "    sleep(1)\n"
   ]
  },
  {
   "cell_type": "code",
   "execution_count": null,
   "metadata": {},
   "outputs": [],
   "source": []
  },
  {
   "cell_type": "code",
   "execution_count": null,
   "metadata": {},
   "outputs": [],
   "source": []
  }
 ],
 "metadata": {
  "kernelspec": {
   "display_name": "Python (Event Driven with Argo)",
   "language": "python",
   "name": "zoo_env"
  },
  "language_info": {
   "codemirror_mode": {
    "name": "ipython",
    "version": 3
   },
   "file_extension": ".py",
   "mimetype": "text/x-python",
   "name": "python",
   "nbconvert_exporter": "python",
   "pygments_lexer": "ipython3",
   "version": "3.9.19"
  }
 },
 "nbformat": 4,
 "nbformat_minor": 2
}
